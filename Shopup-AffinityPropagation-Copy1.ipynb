{
 "cells": [
  {
   "cell_type": "code",
   "execution_count": 53,
   "metadata": {},
   "outputs": [],
   "source": [
    "# To ensure that you have all the libraries installed, make sure this cell runs properly.\n",
    "from xml.dom import minidom\n",
    "import pandas as pd\n",
    "import matplotlib\n",
    "import numpy as np\n",
    "from geopy.distance import geodesic"
   ]
  },
  {
   "cell_type": "code",
   "execution_count": 54,
   "metadata": {},
   "outputs": [],
   "source": [
    "files = ['Bashundara_RA.osm', 'Dhanmondi.osm', 'Nakhalpara.osm', 'Mirpur.osm', 'Rampura.osm', 'Mogbazar.osm', 'Cantonment.osm', 'DU_Nilkhet.osm', 'Chankharpool.osm',  'Mohammadpur.osm', 'Shahbag.osm']\n",
    "# 'Gabtoli.osm',  \n",
    "dict_of_locations = {}\n",
    "list_of_locations = []\n",
    "dict_of_locations['latitude'] = []\n",
    "dict_of_locations['longitude'] = []\n",
    "\n"
   ]
  },
  {
   "cell_type": "code",
   "execution_count": 55,
   "metadata": {},
   "outputs": [
    {
     "name": "stdout",
     "output_type": "stream",
     "text": [
      "21163\n",
      "12\n",
      "44595\n",
      "32\n",
      "28492\n",
      "48\n",
      "42426\n",
      "68\n",
      "41371\n",
      "88\n",
      "28772\n",
      "104\n",
      "28505\n",
      "120\n",
      "9902\n",
      "126\n",
      "30242\n",
      "142\n",
      "45227\n",
      "162\n",
      "18554\n",
      "173\n"
     ]
    }
   ],
   "source": [
    "for filename in files:\n",
    "    np.random.seed(1)\n",
    "    xmldoc = minidom.parse('./data/' + filename)\n",
    "    location_xml = xmldoc.getElementsByTagName('node')\n",
    "    print(len(location_xml))\n",
    "    for location in location_xml:\n",
    "        if np.random.rand() < .0004:\n",
    "            dict_of_locations['latitude'].append(float(location.attributes['lat'].value))\n",
    "            dict_of_locations['longitude'].append(float(location.attributes['lon'].value))\n",
    "\n",
    "            list_of_locations.append([float(location.attributes['lat'].value), float(location.attributes['lon'].value)])\n",
    "            \n",
    "    print(len(list_of_locations))"
   ]
  },
  {
   "cell_type": "code",
   "execution_count": 56,
   "metadata": {},
   "outputs": [],
   "source": [
    "dataframe = pd.DataFrame(data = dict_of_locations)"
   ]
  },
  {
   "cell_type": "code",
   "execution_count": 57,
   "metadata": {},
   "outputs": [
    {
     "data": {
      "text/html": [
       "<div>\n",
       "<style scoped>\n",
       "    .dataframe tbody tr th:only-of-type {\n",
       "        vertical-align: middle;\n",
       "    }\n",
       "\n",
       "    .dataframe tbody tr th {\n",
       "        vertical-align: top;\n",
       "    }\n",
       "\n",
       "    .dataframe thead th {\n",
       "        text-align: right;\n",
       "    }\n",
       "</style>\n",
       "<table border=\"1\" class=\"dataframe\">\n",
       "  <thead>\n",
       "    <tr style=\"text-align: right;\">\n",
       "      <th></th>\n",
       "      <th>latitude</th>\n",
       "      <th>longitude</th>\n",
       "    </tr>\n",
       "  </thead>\n",
       "  <tbody>\n",
       "    <tr>\n",
       "      <th>0</th>\n",
       "      <td>23.816826</td>\n",
       "      <td>90.406408</td>\n",
       "    </tr>\n",
       "    <tr>\n",
       "      <th>1</th>\n",
       "      <td>23.824691</td>\n",
       "      <td>90.415939</td>\n",
       "    </tr>\n",
       "    <tr>\n",
       "      <th>2</th>\n",
       "      <td>23.825535</td>\n",
       "      <td>90.416480</td>\n",
       "    </tr>\n",
       "    <tr>\n",
       "      <th>3</th>\n",
       "      <td>23.836510</td>\n",
       "      <td>90.424908</td>\n",
       "    </tr>\n",
       "    <tr>\n",
       "      <th>4</th>\n",
       "      <td>23.836900</td>\n",
       "      <td>90.424291</td>\n",
       "    </tr>\n",
       "  </tbody>\n",
       "</table>\n",
       "</div>"
      ],
      "text/plain": [
       "    latitude  longitude\n",
       "0  23.816826  90.406408\n",
       "1  23.824691  90.415939\n",
       "2  23.825535  90.416480\n",
       "3  23.836510  90.424908\n",
       "4  23.836900  90.424291"
      ]
     },
     "execution_count": 57,
     "metadata": {},
     "output_type": "execute_result"
    }
   ],
   "source": [
    "dataframe.head()"
   ]
  },
  {
   "cell_type": "code",
   "execution_count": 58,
   "metadata": {},
   "outputs": [
    {
     "data": {
      "text/plain": [
       "<matplotlib.axes._subplots.AxesSubplot at 0x7f71f465bc50>"
      ]
     },
     "execution_count": 58,
     "metadata": {},
     "output_type": "execute_result"
    },
    {
     "data": {
      "image/png": "[encoded data removed]",
      "text/plain": [
       "<Figure size 432x288 with 1 Axes>"
      ]
     },
     "metadata": {
      "needs_background": "light"
     },
     "output_type": "display_data"
    }
   ],
   "source": [
    "dataframe.plot(kind=\"scatter\", x=\"longitude\", y=\"latitude\", alpha=0.4)\n"
   ]
  },
  {
   "cell_type": "code",
   "execution_count": 59,
   "metadata": {},
   "outputs": [
    {
     "data": {
      "text/plain": [
       "numpy.float64"
      ]
     },
     "execution_count": 59,
     "metadata": {},
     "output_type": "execute_result"
    }
   ],
   "source": [
    "type(dataframe.iloc[0]['latitude'])"
   ]
  },
  {
   "cell_type": "code",
   "execution_count": 60,
   "metadata": {},
   "outputs": [
    {
     "data": {
      "text/plain": [
       "0.8757514255572759"
      ]
     },
     "execution_count": 60,
     "metadata": {},
     "output_type": "execute_result"
    }
   ],
   "source": [
    "np.random.rand()"
   ]
  },
  {
   "cell_type": "code",
   "execution_count": 61,
   "metadata": {},
   "outputs": [
    {
     "name": "stdout",
     "output_type": "stream",
     "text": [
      "         latitude   longitude\n",
      "count  173.000000  173.000000\n",
      "mean    23.766580   90.389419\n",
      "std      0.030054    0.023054\n",
      "min     23.719012   90.336471\n",
      "25%     23.744505   90.367186\n",
      "50%     23.762457   90.392771\n",
      "75%     23.795438   90.408472\n",
      "max     23.836900   90.437144\n"
     ]
    }
   ],
   "source": [
    "print(dataframe.describe())"
   ]
  },
  {
   "cell_type": "code",
   "execution_count": 62,
   "metadata": {},
   "outputs": [
    {
     "data": {
      "text/plain": [
       "173"
      ]
     },
     "execution_count": 62,
     "metadata": {},
     "output_type": "execute_result"
    }
   ],
   "source": [
    "len(dict_of_locations['latitude'])"
   ]
  },
  {
   "cell_type": "code",
   "execution_count": 63,
   "metadata": {},
   "outputs": [],
   "source": [
    "def dist(pointa, pointb):\n",
    "    a = (pointa[0], pointa[1])\n",
    "    b = (pointb[0], pointb[1])\n",
    "    return - geodesic(a, b).miles ** 2"
   ]
  },
  {
   "cell_type": "code",
   "execution_count": 64,
   "metadata": {},
   "outputs": [
    {
     "data": {
      "text/plain": [
       "-0.6572001905950084"
      ]
     },
     "execution_count": 64,
     "metadata": {},
     "output_type": "execute_result"
    }
   ],
   "source": [
    "dist(list_of_locations[0], list_of_locations[1])"
   ]
  },
  {
   "cell_type": "code",
   "execution_count": 65,
   "metadata": {},
   "outputs": [],
   "source": [
    "affinity_matrix = np.zeros((len(list_of_locations), len(list_of_locations)))\n",
    "for i in range(len(list_of_locations)):\n",
    "    for j in range(len(list_of_locations)):\n",
    "        if i != j:\n",
    "            affinity_matrix[i][j] = dist(list_of_locations[i], list_of_locations[j])\n"
   ]
  },
  {
   "cell_type": "code",
   "execution_count": 66,
   "metadata": {},
   "outputs": [
    {
     "data": {
      "text/plain": [
       "-67.45569166868651"
      ]
     },
     "execution_count": 66,
     "metadata": {},
     "output_type": "execute_result"
    }
   ],
   "source": [
    "np.min(affinity_matrix)"
   ]
  },
  {
   "cell_type": "code",
   "execution_count": 67,
   "metadata": {},
   "outputs": [],
   "source": [
    "from sklearn.cluster import AffinityPropagation"
   ]
  },
  {
   "cell_type": "code",
   "execution_count": 68,
   "metadata": {},
   "outputs": [],
   "source": [
    "af = AffinityPropagation( affinity='precomputed', preference = np.min(affinity_matrix)).fit(affinity_matrix)\n",
    "labels = af.labels_"
   ]
  },
  {
   "cell_type": "code",
   "execution_count": 69,
   "metadata": {},
   "outputs": [
    {
     "data": {
      "text/plain": [
       "(array([0, 1, 2, 3, 4]), array([13, 49, 35, 37, 39]))"
      ]
     },
     "execution_count": 69,
     "metadata": {},
     "output_type": "execute_result"
    }
   ],
   "source": [
    "np.unique(labels, return_counts=True)"
   ]
  },
  {
   "cell_type": "code",
   "execution_count": 70,
   "metadata": {},
   "outputs": [
    {
     "data": {
      "text/plain": [
       "<matplotlib.axes._subplots.AxesSubplot at 0x7f719711fda0>"
      ]
     },
     "execution_count": 70,
     "metadata": {},
     "output_type": "execute_result"
    },
    {
     "data": {
      "image/png": "[encoded data removed]",
      "text/plain": [
       "<Figure size 432x288 with 1 Axes>"
      ]
     },
     "metadata": {
      "needs_background": "light"
     },
     "output_type": "display_data"
    }
   ],
   "source": [
    "colors= ['red','blue','green', 'black','purple','orange','cyan','magenta','yellow','grey','pink','violet']\n",
    "colorList = list()\n",
    "for i in labels:\n",
    "    colorList.append(colors[i])\n",
    "dataframe.plot(kind=\"scatter\", x=\"longitude\", y=\"latitude\", alpha=0.4,color = colorList)\n"
   ]
  },
  {
   "cell_type": "code",
   "execution_count": null,
   "metadata": {},
   "outputs": [],
   "source": []
  }
 ],
 "metadata": {
  "kernelspec": {
   "display_name": "Python 3",
   "language": "python",
   "name": "python3"
  },
  "language_info": {
   "codemirror_mode": {
    "name": "ipython",
    "version": 3
   },
   "file_extension": ".py",
   "mimetype": "text/x-python",
   "name": "python",
   "nbconvert_exporter": "python",
   "pygments_lexer": "ipython3",
   "version": "3.5.2"
  }
 },
 "nbformat": 4,
 "nbformat_minor": 2
}
